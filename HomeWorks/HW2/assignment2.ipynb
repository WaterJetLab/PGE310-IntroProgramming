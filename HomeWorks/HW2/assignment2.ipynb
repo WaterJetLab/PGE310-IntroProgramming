{
 "cells": [
  {
   "cell_type": "markdown",
   "metadata": {},
   "source": [
    "# Problem 1\n",
    "\n",
    "We know that a quadratic equation with coefficients $a, b$, and $c$ of the form\n",
    "\n",
    "$$\n",
    "a x^2 + b x + c = 0,\n",
    "$$\n",
    "\n",
    "has the two solutions\n",
    "\n",
    "$$\n",
    "x_{1,2} = \\frac{-b \\pm \\sqrt{b^2 - 4 a c}}{2 a}.\n",
    "$$\n",
    "\n",
    "Uncomment the two lines of code below and complete the function to return the correct solutions to the quadratic equation given `a`, `b`, and `c` as arguments to the function.\n",
    "\n",
    "**Notes:** \n",
    " \n",
    " * A comment in Python starts with `#`.  This means these lines will not be run during the execution of the function.  The word *uncomment* in the context of programming means to delete the `#` and make these lines active in the program.\n",
    " \n",
    " * Recall that the square root a variable $x$, i.e. $\\sqrt{x}$, can also be written as $x^{0.5}$.\n",
    " \n",
    " * The standard [order of operations](https://en.wikipedia.org/wiki/Order_of_operations) for mathematics applies here.\n",
    " \n",
    " * Recall that the code below only *defines* the function.  You have to *execute* the function on a separate line, defining the arguments `a`, `b`, and `c` as numbers, to test the functions output.\n",
    "\n"
   ]
  },
  {
   "cell_type": "code",
   "execution_count": 13,
   "metadata": {},
   "outputs": [],
   "source": [
    "def quadratic_equation(a, b, c):\n",
    "    \n",
    "    #ans1 = add the \"+\" solution here\n",
    "    #ans2 = add the \"-\" solution here\n",
    "    \n",
    "    return (ans1, ans2)"
   ]
  },
  {
   "cell_type": "markdown",
   "metadata": {},
   "source": [
    "# Problem 2\n",
    "\n",
    "Uncomment the line of code below and write a string that is formatted to return\n",
    "\n",
    "```python\n",
    "\"Hello, World! My name is John!\"\n",
    "```\n",
    "\n",
    "where `\"John\"` can be replaced with any `name` that is given as an argument to the function.  For example, calling the function as\n",
    "\n",
    "```python\n",
    "hello_world_with_name(\"Romeo\")\n",
    "```\n",
    "\n",
    "will return\n",
    "\n",
    "```python\n",
    "\"Hello, World! My name is Romeo!\"\n",
    "```\n",
    "\n",
    "and calling the function as\n",
    "\n",
    "```python\n",
    "hello_world_with_name(\"Juliet\")\n",
    "```\n",
    "\n",
    "will return\n",
    "\n",
    "```python\n",
    "\"Hello, World! My name is Juliet!\"\n",
    "```"
   ]
  },
  {
   "cell_type": "code",
   "execution_count": 15,
   "metadata": {},
   "outputs": [],
   "source": [
    "def hello_world_with_name(name):\n",
    "    \n",
    "    #ans = \n",
    "    \n",
    "    return ans"
   ]
  }
 ],
 "metadata": {
  "kernelspec": {
   "display_name": "Python 3",
   "language": "python",
   "name": "python3"
  },
  "language_info": {
   "codemirror_mode": {
    "name": "ipython",
    "version": 3
   },
   "file_extension": ".py",
   "mimetype": "text/x-python",
   "name": "python",
   "nbconvert_exporter": "python",
   "pygments_lexer": "ipython3",
   "version": "3.8.1"
  }
 },
 "nbformat": 4,
 "nbformat_minor": 4
}
