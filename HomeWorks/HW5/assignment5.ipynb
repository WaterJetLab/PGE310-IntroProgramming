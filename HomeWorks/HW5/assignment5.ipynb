{
 "cells": [
  {
   "cell_type": "markdown",
   "metadata": {},
   "source": [
    "# Problem 1\n",
    "\n",
    "Complete the function below that takes a Python list as an argument.  You can assume the list will only contain numbers.  Use a `for`- or `while`-loop to compute the total (i.e. sum) of all the entries in `alist`.  The function should return only the total.  For example, calling the function with\n",
    "\n",
    "```python\n",
    "list_sum([1, 2, 3])\n",
    "```\n",
    "\n",
    "will return `6`.\n",
    "\n",
    "Do not use the built in Python command `sum()`, the tests will fail if you try."
   ]
  },
  {
   "cell_type": "code",
   "execution_count": 2,
   "metadata": {},
   "outputs": [],
   "source": [
    "def list_sum(alist):\n",
    "    \n",
    "    return #sum of all entries in list"
   ]
  },
  {
   "cell_type": "markdown",
   "metadata": {},
   "source": [
    "# Problem 2\n",
    "\n",
    "Complete the function below that takes a Python list as an argument.  You can assume the list will only contain numbers.  Use a `for`- or `while`-loop to compute the cumulative sum at each entry of the input list.  The function should return a list, where each value in the list is the sum of the value in the equivalent index in `alist` and all those before it in order.  For example, calling the function with\n",
    "\n",
    "```python\n",
    "cumulative_sum([1, 2, 3])\n",
    "```\n",
    "\n",
    "will return `[1, 3, 6]`.  And\n",
    "\n",
    "```python\n",
    "cumulative_sum([1, 3, 5, 8])\n",
    "```\n",
    "\n",
    "will return `[1, 4, 9, 17]`."
   ]
  },
  {
   "cell_type": "code",
   "execution_count": 7,
   "metadata": {},
   "outputs": [],
   "source": [
    "def cumulative_sum(alist):\n",
    "        \n",
    "    return #list containing cumulative sums"
   ]
  }
 ],
 "metadata": {
  "kernelspec": {
   "display_name": "Python 3",
   "language": "python",
   "name": "python3"
  },
  "language_info": {
   "codemirror_mode": {
    "name": "ipython",
    "version": 3
   },
   "file_extension": ".py",
   "mimetype": "text/x-python",
   "name": "python",
   "nbconvert_exporter": "python",
   "pygments_lexer": "ipython3",
   "version": "3.8.1"
  }
 },
 "nbformat": 4,
 "nbformat_minor": 4
}
