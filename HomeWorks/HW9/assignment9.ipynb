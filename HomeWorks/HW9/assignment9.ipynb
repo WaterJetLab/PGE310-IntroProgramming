{
 "cells": [
  {
   "cell_type": "markdown",
   "metadata": {},
   "source": [
    "# Assignment 9\n",
    "\n",
    "In [Assignment 8](https://github.com/PGE310-Students/assignment8) we used [NumPy](https://numpy.org/) to implement the Kozeny-Carmen (K-C) relationship as a model that relates porosity to permeability through a proportionality constant\n",
    "\n",
    "$$\n",
    "m \\propto \\frac{\\phi^3}{(1 - \\phi)^2} = f(\\phi)\n",
    "$$\n",
    "\n",
    "In this assignment, we'll use [Pandas](https://pandas.pydata.org/) to perform similar manipulations within a Dataframe.  We'll also create a simple plot.\n",
    "\n",
    "The file [poro_perm.csv](poro_perm.csv) contains two columns of data corresponding to porosity and permeablity measurements for a reservoir.  Your first task is to use Pandas to read this file into a Dataframe object and store it as a class attribute called `df`.\n",
    "\n",
    "The second task is to implement `add_kc_model_to_df`.  This member function should use the Kozeny-Carmen relationship above and *create a new Dataframe column* called `'kc model'`.  This new column should be permanently stored in the class attribute `df` that was created in the first task.\n",
    "\n",
    "Finally, use the built in Pandas plot member function for Dataframes to create a *scatter plot* that plots the permeability as a function of `'kc model'`.  You'll notice that the `plot` member function for `KozenyCarmen` has an argument `**kwargs`.  This should be passed as the *last* argument to any Pandas Dataframe plot commands you'll use.  You have to do this for the tests to pass."
   ]
  },
  {
   "cell_type": "code",
   "execution_count": 1,
   "metadata": {},
   "outputs": [],
   "source": [
    "import pandas as pd\n",
    "\n",
    "class KozenyCarmen():\n",
    "    \n",
    "    def __init__(self, filename):\n",
    "        \n",
    "        #Uncomment the line below and use Pandas to read in `filename`.  You can \n",
    "        #assume `filename` will always be a CSV file.\n",
    "        #self.df =\n",
    "        \n",
    "        return\n",
    "    \n",
    "    def add_kc_model_to_df(self):\n",
    "        #This function should create a new column in `self.df` with f(ϕ) as \n",
    "        #defined above. The new column should have the label 'kc model'.  The \n",
    "        #function should not return anything, just add the column to the `self.df` \n",
    "        #attribute.\n",
    "        \n",
    "        return\n",
    "    \n",
    "    def plot(self, **kwargs):\n",
    "        #Do not change this line, it should be called to add 'kc model' to `self.df`\n",
    "        #before plotting\n",
    "        self.add_kc_model_to_df()\n",
    "        \n",
    "        #Use the built in Pandas plot features for Dataframes to create a simple\n",
    "        #plot of permeability as a function of 'kc model'.  Make sure to pass \n",
    "        #`**kwargs` as the last argument to this command.  Again, this function\n",
    "        #should not return anything, just add the plot command on a line below.\n",
    "        \n",
    "        return"
   ]
  }
 ],
 "metadata": {
  "kernelspec": {
   "display_name": "Python 3",
   "language": "python",
   "name": "python3"
  },
  "language_info": {
   "codemirror_mode": {
    "name": "ipython",
    "version": 3
   },
   "file_extension": ".py",
   "mimetype": "text/x-python",
   "name": "python",
   "nbconvert_exporter": "python",
   "pygments_lexer": "ipython3",
   "version": "3.8.1"
  }
 },
 "nbformat": 4,
 "nbformat_minor": 4
}
