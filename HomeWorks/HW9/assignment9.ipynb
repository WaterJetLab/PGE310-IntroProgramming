{
 "cells": [
  {
   "cell_type": "markdown",
   "metadata": {},
   "source": [
    "# Assignment 9\n",
    "\n",
    "矩阵相乘算法：\n",
    "$$\n",
    "\\begin{array}{l}\n",
    "\\mathbf{Input}\\text{：}\\boldsymbol{A}=\\left[ a_{ik} \\right] _{M\\times K},  \\boldsymbol{B}=\\left[ b_{kj} \\right] _{K\\times N}\n",
    "\\\\\n",
    "\\mathbf{Output}\\text{：}\\boldsymbol{C}=\\left[ c_{ij} \\right] _{M\\times N}\n",
    "\\\\\n",
    "\\mathrm{Let}\\text{  }\\boldsymbol{C}\\,\\,\\text{  }\\mathrm{be} \\text{  }\\mathrm{a} \\text{  }\\mathrm{new} \\text{  }\\mathrm{matrix}\n",
    "\\\\\n",
    "\\mathrm{For} \\text{  }\\mathrm{i}=1...M\n",
    "\\\\\n",
    "\\,\\,   \\text{       }\\mathrm{For} \\text{  }j=1...N\n",
    "\\\\\n",
    "\\,\\,        \\quad\\quad\\mathrm{Let} \\text{  }\\mathrm{sum}=0\n",
    "\\\\\n",
    "\\,\\,        \\quad\\quad\\mathrm{For}\\,\\,k=1...K\n",
    "\\\\\n",
    "\\,\\,             \\quad\\quad\\quad\\mathrm{Set} \\text{  }\\mathrm{sum}=\\mathrm{sum}+a_{ik}b_{kj}\n",
    "\\\\\n",
    "\\,\\,        \\quad\\quad c_{ij}=\\mathrm{sum}\n",
    "\\\\\n",
    "\\mathrm{Return} \\text{  }\\boldsymbol{C}\n",
    "\\\\\n",
    "\\end{array}\n",
    "$$\n",
    "\n",
    "本次作业，我们将基于上文矩阵相乘算法([Matrix Mulitplication](https://en.wikipedia.org/wiki/Matrix_multiplication))，* 使用原始的Python语言实现一个`mat_mult(A,B)`函数\n",
    "* 使用[Numpy.dot](https://numpy.org/doc/stable/reference/generated/numpy.dot.html)对自己实现的函数进行验证\n",
    "* 随机生成10x10-5000x5000的矩阵，对比`mat_mult(A,B)`和`np.dot(A,B)`的计算时间，并使用`matplotlib`画图，x轴为矩阵大小，y轴为计算时间\n",
    "\n",
    "案例结果：\n",
    "<p align=\"center\">\n",
    "  <img src = \"https://dzhelil.info/_images/convergence_rand.png\" height=\"250\">\n",
    "</p>\n"
   ]
  },
  {
   "cell_type": "code",
   "execution_count": 2,
   "metadata": {},
   "outputs": [],
   "source": [
    "import numpy as np\n",
    "import timeit as ti"
   ]
  },
  {
   "cell_type": "code",
   "execution_count": 13,
   "metadata": {},
   "outputs": [],
   "source": [
    "def mat_multi(A,B):\n",
    "    #start your implementation here\n",
    "    C=0.0\n",
    "    return C"
   ]
  },
  {
   "cell_type": "code",
   "execution_count": 12,
   "metadata": {},
   "outputs": [
    {
     "name": "stdout",
     "output_type": "stream",
     "text": [
      "Numpy answer= [[ 46  52]\n",
      " [100 115]]\n"
     ]
    }
   ],
   "source": [
    "#Test example\n",
    "A=np.array([[1,2,3],\n",
    "           [4,5,6]])\n",
    "B=np.array([[1,2],\n",
    "            [6,7],\n",
    "            [11,12]])\n",
    "\n",
    "C_ref = np.dot(A,B)\n",
    "print('Numpy answer=',C_ref)\n",
    "\n",
    "#C_myfunc = mat_multi(A,B)\n",
    "#print('MyAnswer=',C_myfunc)"
   ]
  },
  {
   "cell_type": "code",
   "execution_count": 35,
   "metadata": {},
   "outputs": [
    {
     "name": "stdout",
     "output_type": "stream",
     "text": [
      "Matrix size of 10x10...\n",
      "Matrix size of 1010x1010...\n",
      "Matrix size of 2010x2010...\n",
      "Matrix size of 3010x3010...\n",
      "Matrix size of 4010x4010...\n",
      "[[1.00000000e+01 1.39999997e-06]\n",
      " [1.01000000e+03 9.92610000e-03]\n",
      " [2.01000000e+03 6.07215000e-02]\n",
      " [3.01000000e+03 1.76515800e-01]\n",
      " [4.01000000e+03 3.36685400e-01]]\n"
     ]
    }
   ],
   "source": [
    "#Benchmark example\n",
    "\n",
    "rslt = []\n",
    "for n_size in range(10, 5000, 1000):\n",
    "    print(f'Matrix size of {n_size}x{n_size}...')\n",
    "\n",
    "    A = np.random.rand(n_size,n_size)\n",
    "    B = np.random.rand(n_size,n_size)\n",
    "\n",
    "    c = [n_size, ]\n",
    "\n",
    "    #Run np.dot(B,A) 10 times and use the shortest run time as its performance metric\n",
    "    t = ti.Timer(lambda: np.dot(B, A))\n",
    "    c.append(np.min(t.repeat(10, 1)))\n",
    "    #print(f\"   Numpy CPU time = {c[-1]:.2e}s\")\n",
    "\n",
    "    #Run mat_multi(B,A) 10 times and use the shortest run time as its performance metric\n",
    "    #Complete this function\n",
    "    #\n",
    "    #print(f\"   My implementation CPU time = {c[-1]:.2e}s\")\n",
    "\n",
    "    rslt.append(c)\n",
    "\n",
    "#Convert list into numpy array\n",
    "rslt = np.array(rslt)\n",
    "\n",
    "print(rslt)"
   ]
  },
  {
   "cell_type": "code",
   "execution_count": null,
   "metadata": {},
   "outputs": [],
   "source": [
    "#Plot performance plot using Matplotlib\n"
   ]
  }
 ],
 "metadata": {
  "kernelspec": {
   "display_name": "Python 3",
   "language": "python",
   "name": "python3"
  },
  "language_info": {
   "codemirror_mode": {
    "name": "ipython",
    "version": 3
   },
   "file_extension": ".py",
   "mimetype": "text/x-python",
   "name": "python",
   "nbconvert_exporter": "python",
   "pygments_lexer": "ipython3",
   "version": "3.8.8"
  }
 },
 "nbformat": 4,
 "nbformat_minor": 4
}
