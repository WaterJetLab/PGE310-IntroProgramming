{
 "cells": [
  {
   "cell_type": "markdown",
   "metadata": {},
   "source": [
    "# Assignment 15\n",
    "\n",
    "I have provided a Python/NumPy implementation of a [Gauss-Seidel iteration solver](https://johnfoster.pge.utexas.edu/numerical-methods-book/LinearAlgebra_IterativeSolvers.html#Python/NumPy-implementation-of-Gauss-Seidel-iteration) in the course notes.  \n",
    "\n",
    "Convert this script to the object-oriented class member function `gauss_seidel_solve` below.  **Add a row swapping strategy** such that the iteration will work if there is a 0 entry on the diagonal of the $\\mathbf{A}$ matrix.\n",
    "\n",
    "I am provided a `Matrix` class definition that has been extended from the one you implemented in [assignment12](https://github.com/PGE310-Students/assignment12).  This class is instantiated as the class attribute objects `A` and and allows for indexing operations similar to Python lists and NumPy arrays as well as the row operation functions.  Please use this class and it's member functions to implement your functions when appropriate."
   ]
  },
  {
   "cell_type": "code",
   "execution_count": 1,
   "metadata": {},
   "outputs": [],
   "source": [
    "import numpy as np\n",
    "\n",
    "class Matrix(object):\n",
    "    \n",
    "    def __init__(self, array):\n",
    "        \n",
    "        if not isinstance(array, (list, np.ndarray)):\n",
    "            raise TypeError('Input matrix must be a Python list or NumPy ndarray.')\n",
    "        else:\n",
    "            self.mat = np.array(array, dtype=np.double)\n",
    "        \n",
    "    def __str__(self):\n",
    "        return str(self.mat)\n",
    "    \n",
    "    def __call__(self):\n",
    "        return self.mat\n",
    "\n",
    "    def __getitem__(self, key):\n",
    "        return self.mat[key]\n",
    "    \n",
    "    def __setitem__(self, key, value):\n",
    "        self.mat[key] = value\n",
    "    \n",
    "    def row_swap(self, i, j):\n",
    "        temp_row = self.mat[j].copy()\n",
    "        self.mat[j] = self.mat[i]\n",
    "        self.mat[i] = temp_row\n",
    "        return\n",
    "    \n",
    "    def row_multiply(self, i, factor):\n",
    "        self.mat[i] *= factor\n",
    "        return\n",
    "        \n",
    "    def row_combine(self, i, j, factor):\n",
    "        self.mat[i] -= factor * self.mat[j]\n",
    "        return"
   ]
  },
  {
   "cell_type": "code",
   "execution_count": 2,
   "metadata": {},
   "outputs": [],
   "source": [
    "class IterativeSolver():\n",
    "    \n",
    "    def __init__(self, A, b):\n",
    "        \n",
    "        self.n = A.shape[0]\n",
    "        \n",
    "        #Instantiate A as a\n",
    "        #Matrix object and store it\n",
    "        #as class attribute.\n",
    "        self.A = Matrix(A)\n",
    "        self.b = np.array(b, dtype=np.double)\n",
    "        \n",
    "        return\n",
    "    \n",
    "    def gauss_seidel_solve(self, tolerance=1e-10, max_iterations=10000):\n",
    "    \n",
    "        x = np.zeros_like(self.b, dtype=np.double)\n",
    "            \n",
    "        return x"
   ]
  }
 ],
 "metadata": {
  "kernelspec": {
   "display_name": "Python 3",
   "language": "python",
   "name": "python3"
  },
  "language_info": {
   "codemirror_mode": {
    "name": "ipython",
    "version": 3
   },
   "file_extension": ".py",
   "mimetype": "text/x-python",
   "name": "python",
   "nbconvert_exporter": "python",
   "pygments_lexer": "ipython3",
   "version": "3.8.1"
  }
 },
 "nbformat": 4,
 "nbformat_minor": 4
}
