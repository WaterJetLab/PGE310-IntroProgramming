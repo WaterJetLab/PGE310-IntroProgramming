{
 "cells": [
  {
   "cell_type": "markdown",
   "metadata": {},
   "source": [
    "# Assignment 7\n",
    "\n",
    "This repository contains a file [`33013014020000.csv`](33013014020000.csv) that contains both oil and gas production data for a well with API number 33013014020000 (the basename of the file).\n",
    "\n",
    "You should complete the function `create_plot` in the class `ProductionPlot` to create the following plot exactly as shown. \n",
    "\n",
    "![img](images/33013014020000_gold.png)\n",
    "\n",
    "Because the oil data has units of formation BBLs and the gas data has units of formation MCF, it doesn't make sense to plot them on the same $y$ coordinate axis.  Plot the oil on the left axis and the gas on the right axis.  Use the same colors (blue and green) for the lines and axis labels as shown in the figure above.  \n",
    "\n",
    "Do not change the figure size and be sure to leave the command `fig.autofmt_xdate` as the last command in `create_plot` as this is what formats the dates on the $x$ axis.  \n",
    "\n",
    "Obviously, you must read in the data somehow, but do not hard code the filename.  Same goes for the title of the plot, because I will be testing the code against multiple API numbers.  I've added an class attribute `api` that gets the API number from the filename.  This might help you in reading in the file and creating the title correctly.\n",
    "\n",
    "The figures must be identical for the tests to pass."
   ]
  },
  {
   "cell_type": "code",
   "execution_count": 2,
   "metadata": {},
   "outputs": [],
   "source": [
    "import numpy as np\n",
    "import matplotlib.pyplot as plt\n",
    "\n",
    "def read_csv(filename):\n",
    "    #Read csv file into numpy array\n",
    "\n",
    "    return date,Qoil,Qgas"
   ]
  },
  {
   "cell_type": "code",
   "execution_count": null,
   "metadata": {},
   "outputs": [],
   "source": [
    "def create_plot(date,Qoil,Qgas,fig_name = \"Production.png\"):\n",
    "    #Do not modify figsize\n",
    "    fig, ax = plt.subplots(figsize=(8,6))\n",
    "\n",
    "    \n",
    "    #Leave this as the last line of this function\n",
    "    fig.autofmt_xdate()\n",
    "\n",
    "    plt.savefig(fig_name)\n",
    "    return"
   ]
  },
  {
   "cell_type": "code",
   "execution_count": 2,
   "metadata": {},
   "outputs": [],
   "source": [
    "# Uncomment to test code in notebook\n",
    "#date,Qoil,Qgas = read_csv('33013014020000.csv')\n",
    "#create_plot(date,Qoil,Qgas)"
   ]
  }
 ],
 "metadata": {
  "kernelspec": {
   "display_name": "Python 3",
   "language": "python",
   "name": "python3"
  },
  "language_info": {
   "codemirror_mode": {
    "name": "ipython",
    "version": 3
   },
   "file_extension": ".py",
   "mimetype": "text/x-python",
   "name": "python",
   "nbconvert_exporter": "python",
   "pygments_lexer": "ipython3",
   "version": "3.8.8"
  }
 },
 "nbformat": 4,
 "nbformat_minor": 4
}
