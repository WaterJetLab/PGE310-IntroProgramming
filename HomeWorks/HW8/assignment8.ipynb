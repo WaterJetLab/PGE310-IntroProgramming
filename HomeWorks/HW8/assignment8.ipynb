{
 "cells": [
  {
   "cell_type": "markdown",
   "metadata": {},
   "source": [
    "# Assignment 8\n",
    "\n",
    "The Kozeny-Carmen (K-C) relationship is a model that relates porosity to permeability through a proportionality constant\n",
    "\n",
    "$$\n",
    "m \\propto \\frac{\\phi^3}{(1 - \\phi)^2} = f(\\phi)\n",
    "$$\n",
    "\n",
    "The file [poro_perm.csv](poro_perm.csv) contains two columns of data corresponding to porosity and permeablity measurements for a reservoir.  Your assignment is to implement the `kc_model` member function below to return $f(\\phi)$ as defined above.\n",
    "\n",
    "I have already provided the code to read in the data file.  It stores the permeability and porosity as attributes of the class `KozenyCarmen` which you can use to implemenent `kc_model`.  Use NumPy *broadcasting* operations to make your code compact and readable.  `kc_model` should return a NumPy array.  The tests will fail if it returns a Python list or any other type of data structure.\n",
    "\n",
    "For convience, I've implemented a `plot` member function so you can see the transformation of the data along with a fit to the Kozeny-Carmen model (and error bounds).  This is just for visualization purposes, you should not edit any code in this member funtion.  If `kc_model` is implemented correctly, it should return a plot that looks like\n",
    "\n",
    "![img](images/kc.png)\n",
    "\n",
    "If you'd like to produce this plot in the notebook, simply run\n",
    "\n",
    "```python\n",
    "KozenyCarmen('poro_perm.csv').plot()\n",
    "```\n",
    "\n",
    "in a code cell."
   ]
  },
  {
   "cell_type": "code",
   "execution_count": 2,
   "metadata": {},
   "outputs": [],
   "source": [
    "import numpy as np\n",
    "import seaborn as sns; sns.set();\n",
    "import matplotlib.pyplot as plt\n",
    "\n",
    "class KozenyCarmen():\n",
    "    \n",
    "    def __init__(self, filename):\n",
    "        \n",
    "        #This reads a filename that is passed as an argument during\n",
    "        #class instantiation and stores the columns of the data as\n",
    "        #class attributes porosity and permeability\n",
    "        [self.porosity, self.permeability] = np.loadtxt(filename, \n",
    "                                                        delimiter=',', \n",
    "                                                        skiprows=1, \n",
    "                                                        unpack=True)\n",
    "        \n",
    "        return\n",
    "    \n",
    "    def kc_model(self):\n",
    "        #This function should return f(\\phi) as defined above\n",
    "        return\n",
    "    \n",
    "    def plot(self):\n",
    "        #Does not need to change if kc_model() is implemented properly\n",
    "        fig, ax = plt.subplots(figsize=(8,6))\n",
    "        sns.regplot(self.kc_model(), self.permeability, ax=ax);\n",
    "        ax.set_xlabel(r'$\\frac{\\phi^3}{(1 - \\phi)^2}$')\n",
    "        ax.set_ylabel(r'$\\kappa$ (mD)')\n",
    "        ax.set_xlim([0, 0.0125])\n",
    "        ax.legend(['Model Fit', 'Transformed Data'])"
   ]
  }
 ],
 "metadata": {
  "kernelspec": {
   "display_name": "Python 3",
   "language": "python",
   "name": "python3"
  },
  "language_info": {
   "codemirror_mode": {
    "name": "ipython",
    "version": 3
   },
   "file_extension": ".py",
   "mimetype": "text/x-python",
   "name": "python",
   "nbconvert_exporter": "python",
   "pygments_lexer": "ipython3",
   "version": "3.8.1"
  }
 },
 "nbformat": 4,
 "nbformat_minor": 4
}
