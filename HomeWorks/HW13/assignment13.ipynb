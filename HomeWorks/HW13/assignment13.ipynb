{
 "cells": [
  {
   "cell_type": "markdown",
   "metadata": {},
   "source": [
    "# Assignment 13\n",
    "\n",
    "I have provided Python/NumPy implementations of both the [Gaussian elimination](https://johnfoster.pge.utexas.edu/numerical-methods-book/LinearAlgebra_DirectSolvers.html#Python/NumPy-implementation-for-Gaussian-elimination-with-back-substitution-and-partial-pivoting) and [Gauss-Jordan elimination](https://johnfoster.pge.utexas.edu/numerical-methods-book/LinearAlgebra_DirectSolvers.html#Python/NumPy-implementation-for-Gauss-Jordan-elimination-with-partial-pivoting) in the course notes.  Because these functions make heavy use of NumPy broadcasting, they are about as fast as they can be in Python, but this efficiency is at the expense of code readability.  Additionally, the way they are coded violates the [\"Single-responsibility principle\"](https://en.wikipedia.org/wiki/Single-responsibility_principle) of programming, i.e. each function should have a single well-defined task.\n",
    "\n",
    "We can make these functions more readable and maintainable by using an object-oriented approach.  Your assignment is to complete the `LinearSystem` class below.  Specifically, you can separate the Gaussian elimination code into a function called `row_echelon` that puts the augmented system matrix into row echelon form, and `back_substitute` that performs that back substitution task.  These functions can then be called in sequence to solve a linear system of equations as shown in `gauss_solve`.  You can check your implementation by comparing with the output of [`numpy.linalg.solve`](https://docs.scipy.org/doc/numpy/reference/generated/numpy.linalg.solve.html) function.\n",
    "\n",
    "Additionally, complete the function `reduced_row_echelon`.  This function should perform Gauss-Jordan elimination to put the augmented system matrix in reduced row echelon form.  This can then be used to solve for the inverse of a matrix as implemented in the `inverse` function.  You can check your implementation by comparing with the output of [`numpy.linalg.inv`](https://docs.scipy.org/doc/numpy/reference/generated/numpy.linalg.inv.html).\n",
    "\n",
    "The class `LinearSystem` can be instantiated with a matrix `A` and right-hand side vector `b` for the solution of linear systems, or with only a matrix `A` for inverse computations.  The class should inherit from the `Matrix` class you implemented in [assignment12](https://github.com/PGE310-Students/assignment12) and use the member functions `row_swap`, `row_multiply` and `row_combine` to perform the matrix manipulations.\n",
    "\n",
    "**Tip:** A simple way to turn your Jupyter notebook from [assignment12](https://github.com/PGE310-Students/assignment12) into an executable and importable Python module is to run the following command on the Terminal command line:\n",
    "\n",
    "```bash\n",
    "jupyter nbconvert --to python assignment12.ipynb\n",
    "```\n",
    "\n",
    "This will turn `assignment12.ipynb` into `assignment12.py` which should contain the `Matrix` class.  Then, `cp` or `mv` `assignment12.py` into this repository (i.e. [assignment13](https://github.com/PGE310-Students/assignment13)).  Now you should be able to add\n",
    "\n",
    "```python\n",
    "from assignment12 import Matrix\n",
    "```\n",
    "\n",
    "to your code and have the `Matrix` class available to inherit from in `LinearSystem`.  Don't forget to run `git add assignment12.py` when committing your final solution if you do this.  The alternative is to copy the `Matrix` class code into this assignment."
   ]
  },
  {
   "cell_type": "code",
   "execution_count": 1,
   "metadata": {},
   "outputs": [],
   "source": [
    "import numpy as np\n"
   ]
  },
  {
   "cell_type": "code",
   "execution_count": 9,
   "metadata": {},
   "outputs": [],
   "source": [
    "class LinearSystem(Matrix):\n",
    "    \n",
    "    def __init__(self, A, b=None):\n",
    "        \n",
    "        self.mat = np.array(A, np.double)\n",
    "         \n",
    "        if b is not None:\n",
    "            self.mat = np.c_[self.mat, b]\n",
    "            \n",
    "    def row_echelon(self):\n",
    "    \n",
    "        ##########################\n",
    "        ##### Add code here ######\n",
    "        ##########################\n",
    "    \n",
    "        return #The function should manipulate self.mat\n",
    "               #in place. Do not return anything.\n",
    "                \n",
    "    def reduced_row_echelon(self):\n",
    "    \n",
    "        ##########################\n",
    "        ##### Add code here ######\n",
    "        ##########################\n",
    "    \n",
    "        return #The function should manipulate self.mat\n",
    "               #in place. Do not return anything..\n",
    "            \n",
    "    def back_substitute(self):\n",
    "        \n",
    "        (N, M) = self.mat.shape\n",
    "        \n",
    "        #Allocating space for the solution vector\n",
    "        x = np.zeros(N, dtype=np.double)\n",
    "        \n",
    "        ##########################\n",
    "        ##### Add code here ######\n",
    "        ##########################\n",
    "        \n",
    "        return x #Return the solution vector.\n",
    "\n",
    "    \n",
    "    def gauss_solve(self):\n",
    "        ##########################\n",
    "        ##### Do not change ######\n",
    "        ##########################\n",
    "        self.row_echelon()\n",
    "        return self.back_substitute()\n",
    "    \n",
    "    def inverse(self):\n",
    "        ##########################\n",
    "        ##### Do not change ######\n",
    "        ##########################\n",
    "        N = self.mat.shape[0]\n",
    "        self.mat = np.c_[self.mat[:,:N], np.eye(N)]\n",
    "        self.reduced_row_echelon()\n",
    "        return self.mat[:,-N:]"
   ]
  }
 ],
 "metadata": {
  "kernelspec": {
   "display_name": "Python 3",
   "language": "python",
   "name": "python3"
  },
  "language_info": {
   "codemirror_mode": {
    "name": "ipython",
    "version": 3
   },
   "file_extension": ".py",
   "mimetype": "text/x-python",
   "name": "python",
   "nbconvert_exporter": "python",
   "pygments_lexer": "ipython3",
   "version": "3.8.1"
  }
 },
 "nbformat": 4,
 "nbformat_minor": 4
}
