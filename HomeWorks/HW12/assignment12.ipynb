{
 "cells": [
  {
   "cell_type": "markdown",
   "metadata": {},
   "source": [
    "# Assignment 12\n",
    "\n",
    "Complete the `Matrix` class below by implementing the three member functions that perform the following matrix row operations:\n",
    "\n",
    " * `row_swap`: Should swap rows `i` and `j` in a matrix.\n",
    " \n",
    " * `row_multiply`: Should multiply row `i` by `factor`.\n",
    " \n",
    " * `row_combine`: Should perform the operation\n",
    " \n",
    "    $$\n",
    "    A_i = A_i - m  A_j\n",
    "    $$\n",
    "    \n",
    "    where $A$ is a matrix and $i$ and $j$ are rows of the matrix.  $m$ is a     scalar multiplication `factor`.\n",
    "    \n",
    "The operations should perform the matrix manipulations to the `mat` class attribute *in place*, i.e. they should **not** return a new matrix.  You can assume that `mat` will always be a NumPy array."
   ]
  },
  {
   "cell_type": "code",
   "execution_count": 23,
   "metadata": {},
   "outputs": [],
   "source": [
    "import numpy as np\n",
    "\n",
    "class Matrix(object):\n",
    "    \n",
    "    def __init__(self, array):\n",
    "        \n",
    "        if not isinstance(array, (list, np.ndarray)):\n",
    "            raise TypeError('Input matrix must be a Python list or NumPy ndarray.')\n",
    "        else:\n",
    "            self.mat = np.array(array)\n",
    "        \n",
    "    def __str__(self):\n",
    "        return str(self.mat)\n",
    "    \n",
    "    def row_swap(self, i, j):\n",
    "     \n",
    "        return\n",
    "    \n",
    "    def row_multiply(self, i, factor):\n",
    "    \n",
    "        return\n",
    "        \n",
    "    def row_combine(self, i, j, factor):\n",
    "       \n",
    "        return"
   ]
  }
 ],
 "metadata": {
  "kernelspec": {
   "display_name": "Python 3",
   "language": "python",
   "name": "python3"
  },
  "language_info": {
   "codemirror_mode": {
    "name": "ipython",
    "version": 3
   },
   "file_extension": ".py",
   "mimetype": "text/x-python",
   "name": "python",
   "nbconvert_exporter": "python",
   "pygments_lexer": "ipython3",
   "version": "3.8.1"
  }
 },
 "nbformat": 4,
 "nbformat_minor": 4
}
