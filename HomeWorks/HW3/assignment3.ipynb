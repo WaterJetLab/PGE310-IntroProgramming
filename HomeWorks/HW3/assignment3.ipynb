{
 "cells": [
  {
   "cell_type": "markdown",
   "metadata": {},
   "source": [
    "# Problem 1\n",
    "\n",
    "Complete the function below, which takes arguments `a` and `b` and you can assume they will be integer numbers.  The function should test whether `a` is evenly divisable by `b`.  If it is evenly divisable, it should return a string that reads\n",
    "\n",
    "```\n",
    "\"a is evenly divisible by b!\"\n",
    "```\n",
    "\n",
    "Please note that `a` and `b` should be replaced with their actual values given in the function call.  In the event that `a` is not evenly divisable by `b`, the function should store a return\n",
    "\n",
    "```\n",
    "\"a is not evenly divisible by b. The remainder is c.\"\n",
    "```\n",
    "\n",
    "where `c` is the remainder.  Again, `a`, `b`, and `c` should be replaced by thier actual values in the function call.  For example, calling the function with\n",
    "\n",
    "```python\n",
    "is_evenly_divisible(4, 2)\n",
    "```\n",
    "\n",
    "should return\n",
    "\n",
    "```python\n",
    "\"4 is evenly divisible by 2!\"\n",
    "```\n",
    "\n",
    "and calling the function with\n",
    "\n",
    "```python\n",
    "is_evenly_divisible(5, 3)\n",
    "```\n",
    "\n",
    "should return\n",
    "\n",
    "```python\n",
    "\"5 is not evenly divisible by 3. The remainder is 2.\"\n",
    "```"
   ]
  },
  {
   "cell_type": "code",
   "execution_count": 27,
   "metadata": {},
   "outputs": [],
   "source": [
    "def is_evenly_divisible(a, b):\n",
    "    \n",
    "    return #Function should return the correct statement as described above"
   ]
  },
  {
   "cell_type": "markdown",
   "metadata": {},
   "source": [
    "# Problem 2\n",
    "\n",
    "Complete the function below. Assume the arguments `a` and `b` are integer or floating point numbers.  The argument `operation` is a string that has one of the following values exactly: `'add', 'subtract', 'multiply', 'divide'`.\n",
    "\n",
    "Given one of those values for `operation`, design a series of tests that will return the cooresponding mathematical operation for the numbers defined in `a` and `b`.  So if `operation = 'add` then you should return the sum of `a` and `b`.  Likewise for the other operations.  In the event that the user inputs in invalid value for `operation`, have the function return the string:\n",
    "\n",
    "```\n",
    "'Operation must be one of: [\"add\", \"subtract\", \"multiply\", \"divide\"]'\n",
    "```\n",
    "\n",
    "This string has been placed in a comment below for your assistance.  The following examples should clarify the desired implementation of the function.  If the function is called with\n",
    "\n",
    "```python\n",
    "math_operation(4, 2, 'add')\n",
    "```\n",
    "\n",
    "will return `6`.\n",
    "\n",
    "```python\n",
    "math_operation(4, 2, 'multiply')\n",
    "```\n",
    "\n",
    "will return `8`.\n",
    "\n",
    "```python\n",
    "math_operation(4, 2, 'divide')\n",
    "```\n",
    "\n",
    "will return `2`.\n",
    "\n",
    "```python\n",
    "math_operation(4, 2, 'plus')\n",
    "```\n",
    "\n",
    "will return `'Operation must be one of: [\"add\", \"subtract\", \"multiply\", \"divide\"]'`."
   ]
  },
  {
   "cell_type": "code",
   "execution_count": 32,
   "metadata": {},
   "outputs": [],
   "source": [
    "def math_operation(a, b, operation):\n",
    "\n",
    "    return #function should return the correct calculation or the statement:\n",
    "           #'Operation must be one of: [\"add\", \"subtract\", \"multiply\", \"divide\"]'"
   ]
  }
 ],
 "metadata": {
  "kernelspec": {
   "display_name": "Python 3",
   "language": "python",
   "name": "python3"
  },
  "language_info": {
   "codemirror_mode": {
    "name": "ipython",
    "version": 3
   },
   "file_extension": ".py",
   "mimetype": "text/x-python",
   "name": "python",
   "nbconvert_exporter": "python",
   "pygments_lexer": "ipython3",
   "version": "3.8.1"
  }
 },
 "nbformat": 4,
 "nbformat_minor": 4
}
