{
 "cells": [
  {
   "cell_type": "markdown",
   "metadata": {},
   "source": [
    "# Problem 1\n",
    "\n",
    "Complete the function below that takes a Python list as an argument and returns its second element.  Example usage:\n",
    "\n",
    "```python\n",
    "get_2nd_element([0, 20, 30, 40])\n",
    "```\n",
    "\n",
    "will return `20`."
   ]
  },
  {
   "cell_type": "code",
   "execution_count": 2,
   "metadata": {},
   "outputs": [],
   "source": [
    "def get_2nd_element(alist):\n",
    "    \n",
    "    return #2nd element of list"
   ]
  },
  {
   "cell_type": "markdown",
   "metadata": {},
   "source": [
    "# Problem 2\n",
    "\n",
    "Complete the function below.  The function takes a single tuple as an argument.  The tuple should have exactly 2 elements and should return the sum of those 2 elements.  In the event that the user supplies more than 2 elements, the function should return the string `\"Tuple must have exactly 2 elements!\"`.  Example usage:\n",
    "\n",
    "```python\n",
    "add_tuple_elements((2, 3))\n",
    "```\n",
    "\n",
    "should return `5`. \n",
    "\n",
    "And\n",
    "\n",
    "```python\n",
    "add_tuple_elements((2, 3, 6))\n",
    "```\n",
    "\n",
    "should return `\"Tuple must have exactly 2 elements!\"`\n",
    "\n",
    "**Hint:** You can determine how many elements are in a tuple (or a list) with the Python function `len()`."
   ]
  },
  {
   "cell_type": "code",
   "execution_count": 5,
   "metadata": {},
   "outputs": [],
   "source": [
    "def add_tuple_elements(atuple):\n",
    "    \n",
    "    return #The sum of the tuple elements or \"Tuple must have exactly 2 elements!\""
   ]
  },
  {
   "cell_type": "markdown",
   "metadata": {},
   "source": [
    "# Problem 3\n",
    "\n",
    "Complete the function below that takes a Python dictionary as an argument.  Given a dictionary of the form:\n",
    "\n",
    "```python\n",
    "adict = {'name': 'Romeo Montague', 'age': 32, 'DOB': '01/21/1594'}\n",
    "```\n",
    "\n",
    "the function should return the `'age'` value and `'DOB'` value as a single tuple.  Example usage:\n",
    "\n",
    "```python\n",
    "get_age_and_dob(adict)\n",
    "```\n",
    "\n",
    "should return `(32, '01/21/1594')`"
   ]
  },
  {
   "cell_type": "code",
   "execution_count": 16,
   "metadata": {},
   "outputs": [],
   "source": [
    "def get_age_and_dob(adict):\n",
    "    \n",
    "    return"
   ]
  }
 ],
 "metadata": {
  "kernelspec": {
   "display_name": "Python 3",
   "language": "python",
   "name": "python3"
  },
  "language_info": {
   "codemirror_mode": {
    "name": "ipython",
    "version": 3
   },
   "file_extension": ".py",
   "mimetype": "text/x-python",
   "name": "python",
   "nbconvert_exporter": "python",
   "pygments_lexer": "ipython3",
   "version": "3.8.1"
  }
 },
 "nbformat": 4,
 "nbformat_minor": 4
}
