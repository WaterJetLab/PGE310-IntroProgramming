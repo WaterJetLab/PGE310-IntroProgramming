{
 "cells": [
  {
   "cell_type": "markdown",
   "metadata": {},
   "source": [
    "## 期中大作业\n",
    "\n",
    "### 前期准备\n",
    "为了实现数据读取和可视化，请安装下列Python扩展包\n",
    "```bash\n",
    "pip install pyvista\n",
    "pip install panel\n",
    "conda install -c conda-forge -y jupyter_bokeh #安装包的第二种方法, conda\n",
    "pip install xlwings\n",
    "```\n",
    "\n",
    "### 大作业简介\n",
    "美国在Permin Basin开展了两次压裂矿场实验HFTS1 和 HFTS2，本次大作业将基于课程学习的Python编程知识和HFTS1项目的现场实测数据，对井眼轨迹、完井及微地震数据进行数据处理和可视化。期中包括[`MicroseismicEvents.xlsx`](datasets/MicroseismicEvents.xlsx)和[`WellData.xlsx`](datasets/WellData.xlsx)。[`WellData.xlsx`](datasets/WellData.xlsx)包含井眼轨迹、压裂级数、簇数信息。[`MicroseismicEvents.xlsx`](datasets/MicroseismicEvents.xlsx) 包含对应每簇压裂施工过程中的微地震监测数据。\n",
    "\n",
    "请仔细阅读和理解这两个现场实测数据的格式，根据个人理解和google搜索，参考名词解释如下：\n",
    "\n",
    "\n",
    "\n",
    "这次中期大作业包含以下三个任务：\n",
    "\n",
    "### 任务1\n",
    "* 检索阅读HFTS相关论文, 总结HFTS项目基础信息（油藏、地质）\n",
    "* 总结HFTS在裂缝监测方面的成果（比如microsesmic, fiber optics等）\n",
    "\n",
    "### 任务2\n",
    "* 阅读和理解井眼轨迹、完井和微地震数据[`WellData.xlsx`](datasets/WellData.xlsx)、[`MicroseismicEvents.xlsx`](datasets/MicroseismicEvents.xlsx)，并且列表总结数据表格中的参数含义\n",
    "* 参考样本代码，使用`xlwings`提取井眼轨迹和微地震数据\n",
    "    - 井眼轨迹：提取16口井的井眼轨迹(x,y,z)数据，并以合适的格式存储(提示：list of numpy array, dict of numpy array)\n",
    "      - x `E/W Relative Local Tangent Plane (ft)`\t\n",
    "      - y `N/S Relative Local Tangent Plane (ft)` \n",
    "      - z `TVD (ft)`\n",
    "    - 微地震：参考井眼估计数据的提取，提取16口井的微地震数据，并以合适的格式存储\n",
    "      - 起裂信号时间 t `Origin Time (Local)`，并转换成秒的格式\n",
    "      - 起裂信号位置 x,y,z `Easting ft (Relative Local Tangent Plane True North)` `Northing ft (Relative Local Tangent Plane True North)` `Depth ft (TVD)`\n",
    "      - 起裂信号强度 Magn `Magnitude`\n",
    "\n",
    "### 任务3\n",
    "* 阅读哈利伯顿为地震分析报告[`MicroseismicReport.pdf`](datasets/MicroseismicReport.pdf)，了解微地震的分析手段\n",
    "* 利用任务2收集的数据，尝试使用`Matplotlib`重做报告P35和P73的分析图，缝宽和缝高可通过微地震的信号坐标范围确定\n",
    "* 使用`PyVista`和`Paraview`画出三维井眼轨迹（已完成）\n",
    "* （加分项目）使用`PyVista`和`Paraview`画出微地震的三维点云图\n",
    "\n",
    "**提交形式**：所有的文字内容，代码，图均可以在本NoteBook里头完成\n",
    "\n",
    "参考样板报告：[`KNearestNeighbors.ipynb`](https://nbviewer.org/github/fengdu78/lihang-code/blob/master/%E7%AC%AC03%E7%AB%A0%20k%E8%BF%91%E9%82%BB%E6%B3%95/3.KNearestNeighbors.ipynb)\n",
    "\n",
    "---------------"
   ]
  },
  {
   "cell_type": "code",
   "execution_count": null,
   "metadata": {},
   "outputs": [],
   "source": []
  },
  {
   "cell_type": "markdown",
   "metadata": {},
   "source": [
    "### 1. HFTS项目\n",
    "HFTS Permian 盆地，非常规页岩油气 11口水平井，1口斜取芯井，1口直探井，等等[1]\n",
    "\n",
    "全面的水力压裂监测，微地震，支撑剂示踪，试井分析，永久式光纤，裂缝面取芯，形貌扫描，地球化学时域取样，井下压力传感器\n",
    "\n",
    "#### 微地震监测\n",
    "在XX井采用了微地震监测\n",
    "\n",
    "<p align=\"center\">\n",
    "  <img src = \"picture/example_pic.PNG\" height=\"200\">\n",
    "</p>\n",
    "\n",
    "\n",
    "**参考文献**\n",
    "* [1] Ciezobka*, J. and Reeves, S., 2021, January. Overview of Hydraulic Fracturing Test Sites (HFTS) in the Permian Basin and Summary of Selected Results (HFTS-I in Midland and HFTS-II in Delaware). In Latin America Unconventional Resources Technology Conference, 16-18 November 2020 (pp. 93-102). Unconventional Resources Technology Conference (URTEC). URTEC-2020-1544-MS\n",
    "\n",
    "---------------"
   ]
  },
  {
   "cell_type": "markdown",
   "metadata": {},
   "source": [
    "##### 读取实测数据-井眼轨迹部分\n",
    "\n",
    "**数据格式解释**\n",
    "* Origin - Local Tangent Plane： 参考井口\n",
    "* Offset East/North - Local Tangent Plane： 相对于参考井口偏移距离-正东/正北方向\n",
    "* Local Tangent Plane：本地参考坐标系，井口为(North,East)-(0,0,0)\n",
    "* E/W Relative Local Tangent Plane (ft)：本地坐标系下的X坐标（东西方向）\n",
    "* N/S Relative Local Tangent Plane (ft)：本地坐标系下的Y坐标（南北方向） \n",
    "* MD:测深\n",
    "* TVD:垂深 TVDSS：相对于海平面垂深\n",
    "* Easting/Northing: 不是特清楚\n",
    "* Longitude/Latitude: 经纬度\n",
    "* Peforation/Stage:压裂射孔簇数/压裂级数"
   ]
  },
  {
   "cell_type": "code",
   "execution_count": 1,
   "metadata": {},
   "outputs": [],
   "source": [
    "import numpy as np\n",
    "import xlwings as xw\n",
    "#xlwings 帮助文档 https://docs.xlwings.org/en/stable/quickstart.html"
   ]
  },
  {
   "cell_type": "code",
   "execution_count": 4,
   "metadata": {},
   "outputs": [
    {
     "name": "stdout",
     "output_type": "stream",
     "text": [
      "['SUGG-A-158 1SM', 'SUGG-A-158 1SM (Perfs)', 'SUGG-A-158 1SU', 'SUGG-A-158 1SU (Perfs)']\n",
      "SUGG-A-158 1SM\n",
      "SUGG-A-158 1SM\n",
      "['SUGG-A-158 1SM', 'Treatment Well', 2700.0, None, 'MD (ft)']\n"
     ]
    }
   ],
   "source": [
    "#读取井眼轨迹数据(xlwings)\n",
    "wb = xw.Book('datasets\\WellData.xlsx')\n",
    "\n",
    "#获取所有工作表的名字(sheets)\n",
    "#Obtain sheet names\n",
    "sheet_names = [sh.name for sh in wb.sheets]\n",
    "print(sheet_names[:4])\n",
    "\n",
    "#获取某个工作表\n",
    "ws = wb.sheets['SUGG-A-158 1SM']\n",
    "\n",
    "#获取某个工作表的单元格内容\n",
    "print(ws['B1'].value)\n",
    "print(ws[0,1].value)\n",
    "\n",
    "#获取某个工作表区域单元格内容\n",
    "print(ws[0:5,1].value)"
   ]
  },
  {
   "cell_type": "code",
   "execution_count": 5,
   "metadata": {},
   "outputs": [
    {
     "name": "stdout",
     "output_type": "stream",
     "text": [
      "[SheetSUGG-A-158 1SM] has [191] rows and [12] cols\n",
      "OriginSUGG-A-158 1SM offset(0.0, 0.0)\n",
      "[SheetSUGG-A-158 1SU] has [189] rows and [12] cols\n",
      "OriginSUGG-A-158 1SM offset(25.0958042144775, -1.00782203674316)\n",
      "[SheetSUGG-A-171 3SU] has [195] rows and [12] cols\n",
      "OriginSUGG-A-158 1SM offset(-3733.50512695313, -33.7561950683594)\n",
      "[SheetSUGG-A-171 4SM] has [208] rows and [12] cols\n",
      "OriginSUGG-A-158 1SM offset(-3509.17333984375, 63.7449913024902)\n",
      "[SheetSUGG-A-171 4SU] has [195] rows and [12] cols\n",
      "OriginSUGG-A-158 1SM offset(-3708.41577148438, -34.063850402832)\n",
      "[SheetSUGG-A-171 5SM] has [209] rows and [12] cols\n",
      "OriginSUGG-A-158 1SM offset(-3484.17407226563, 63.4464721679688)\n",
      "[SheetSUGG-A-171 5SU] has [221] rows and [12] cols\n",
      "OriginSUGG-A-158 1SM offset(-2359.29345703125, -49.3413772583008)\n",
      "[SheetSUGG-A-171 6SM] has [189] rows and [12] cols\n",
      "OriginSUGG-A-158 1SM offset(-2358.595703125, 0.58746600151062)\n",
      "[SheetSUGG-A-171 6SU] has [219] rows and [12] cols\n",
      "OriginSUGG-A-158 1SM offset(-2358.94482421875, -24.371955871582)\n",
      "[SheetSUGG-A-171 7RM] has [215] rows and [12] cols\n",
      "OriginSUGG-A-158 1SM offset(-1436.919921875, 115.141616821289)\n",
      "[SheetSUGG-A-171 7SU] has [212] rows and [12] cols\n",
      "OriginSUGG-A-158 1SM offset(-1070.81262207031, -42.0285530090332)\n",
      "[SheetSUGG-A-171 8SM] has [216] rows and [12] cols\n",
      "OriginSUGG-A-158 1SM offset(-1437.52758789063, 65.2136459350586)\n",
      "[SheetSUGG-A-171 8SU] has [210] rows and [12] cols\n",
      "OriginSUGG-A-158 1SM offset(-1071.16149902344, -66.9879684448242)\n",
      "[SheetSLANT WELL] has [147] rows and [12] cols\n",
      "OriginSUGG-A-158 1SM offset(-1935.97900390625, -1938.09887695313)\n",
      "[SheetSUGG-A-170P Obs] has [7] rows and [12] cols\n",
      "OriginSUGG-A-158 1SM offset(-1327.23364257813, -7470.9326171875)\n",
      "[SheetSUGG-A-171 5SM Obs] has [209] rows and [12] cols\n",
      "OriginSUGG-A-158 1SM offset(-3484.17407226563, 63.4464721679688)\n"
     ]
    }
   ],
   "source": [
    "#获取所有井的坐标\n",
    "#x `E/W Relative Local Tangent Plane (ft)`\t\n",
    "#y `N/S Relative Local Tangent Plane (ft)` \n",
    "#z `TVD (ft)`\n",
    "\n",
    "well_names = []  #全部的井名\n",
    "well_points = [] #全部井的坐标\n",
    "for sh in sheet_names: #遍历工作表sheet\n",
    "    #跳过包含()的工作表，（perfs）是完井数据，（tools）是工具串数据\n",
    "    if('(' and ')' in sh): continue \n",
    "\n",
    "    #获得当前工作表\n",
    "    ws = wb.sheets[sh]\n",
    "\n",
    "    #有效数据方位的行数和列数\n",
    "    nrows,ncols = ws.used_range.shape\n",
    "\n",
    "    #工作表的名字就是井名字，存到well_names\n",
    "    well_names.append(sh)\n",
    "    print(f'[Sheet{sh}] has [{nrows}] rows and [{ncols}] cols')\n",
    "\n",
    "    #获取参考井口、坐标系偏距信息\n",
    "    origin = ws['J1'].value\n",
    "    offset_x = ws['L1'].value\n",
    "    offset_y = ws['L2'].value\n",
    "    print(f\"Origin{origin} offset{offset_x,offset_y}\")\n",
    "    #print(\"Noted that the first 5 rows are header rows\")\n",
    "\n",
    "    #获取除表头外的数据块(第五行开始)，并转化成numpy array\n",
    "    data = ws[5,:ncols].options(np.array,expand='table').value\n",
    "    #获得数据块的行列数\n",
    "    nrows,ncols = data.shape\n",
    "    #获得表头信息，[Deviation Survey,MD (ft),TVD (ft),....]\n",
    "    header = ws[4,:ncols].value\n",
    "\n",
    "    #print(header)\n",
    "    #print(data[:3,:])\n",
    "\n",
    "    #方法2 以列表形式列存储数据块，表头对应\n",
    "    # head_datas = {head:col for head,col in zip(header,data.T)}\n",
    "\n",
    "    # well_xyz = np.column_stack((head_datas['E/W Relative Local Tangent Plane (ft)'] + offset_x, \n",
    "    #                             head_datas['N/S Relative Local Tangent Plane (ft)'] + offset_y, \n",
    "    #                             head_datas['TVD (ft)']))\n",
    "    \n",
    "    #方法1 手动存储\n",
    "    well_xyz = np.column_stack((data[:,3] + offset_x,     # E/W Relative Local Tangent Plane (ft) 第4列\n",
    "                                data[:,4] + offset_y,     # N/S Relative Local Tangent Plane (ft) 第5列\n",
    "                                data[:,2]))               # TVD 第3列\n",
    "\n",
    "    well_points.append(well_xyz)\n",
    "    #well_xyz[0:5, :]"
   ]
  },
  {
   "cell_type": "code",
   "execution_count": 17,
   "metadata": {},
   "outputs": [
    {
     "name": "stdout",
     "output_type": "stream",
     "text": [
      "Found 16 wells\n",
      "First 5 coordinates of Well [SUGG-A-158 1SU]\n"
     ]
    },
    {
     "data": {
      "text/plain": [
       "array([[ 25.09580421,  -1.00782204,   0.        ],\n",
       "       [ 25.09889793,  -1.32782698, 100.        ],\n",
       "       [ 24.76856041,  -2.33112192, 199.98999023],\n",
       "       [ 23.48537254,  -4.08368874, 299.9699707 ],\n",
       "       [ 21.26065254,  -5.6853261 , 399.92993164]])"
      ]
     },
     "execution_count": 17,
     "metadata": {},
     "output_type": "execute_result"
    }
   ],
   "source": [
    "#检查数据读取，对比excel\n",
    "print(f\"Found {len(well_names)} wells\")\n",
    "\n",
    "wellID = 1\n",
    "w1_name = well_names[wellID]\n",
    "print(f\"First 5 coordinates of Well [{w1_name}]\")\n",
    "well_points[wellID][:5,:]"
   ]
  },
  {
   "cell_type": "markdown",
   "metadata": {},
   "source": [
    "##### 读取实测数据-微地震部分\n",
    "\n",
    "**数据格式解释**\n",
    "* Acquisition Date/Time：\n",
    "* Easting ft (Relative Local Tangent Plane True North)\n",
    "* Northing ft (Relative Local Tangent Plane True North)\n",
    "* ..."
   ]
  },
  {
   "cell_type": "code",
   "execution_count": null,
   "metadata": {},
   "outputs": [],
   "source": [
    "#参考井眼轨迹部分\n",
    "\n"
   ]
  },
  {
   "cell_type": "markdown",
   "metadata": {},
   "source": [
    "---------------"
   ]
  },
  {
   "cell_type": "markdown",
   "metadata": {},
   "source": [
    "#### 井眼轨迹和微地震可视化"
   ]
  },
  {
   "cell_type": "code",
   "execution_count": 36,
   "metadata": {},
   "outputs": [
    {
     "data": {
      "image/png": "[encoded data removed]",
      "text/plain": [
       "<Figure size 432x288 with 1 Axes>"
      ]
     },
     "metadata": {
      "needs_background": "light"
     },
     "output_type": "display_data"
    }
   ],
   "source": [
    "# 2D Matplotlib\n",
    "import matplotlib.pyplot as plt\n",
    "\n",
    "#画俯视图 -XY（坐标平面）为例\n",
    "num_wells = len(well_points)\n",
    "\n",
    "#从matplotlib 中提取一些颜色\n",
    "colors = plt.cm.Paired(np.linspace(0,1,num_wells))\n",
    "for wi in range(num_wells):\n",
    "    w_name = well_names[wi]\n",
    "    w_proj_x = well_points[wi][:,1]\n",
    "    w_proj_y = -well_points[wi][:,2]\n",
    "    #print(w_name,w_proj_x[0:5],w_proj_y[0:5])\n",
    "\n",
    "    plt.plot(w_proj_x,w_proj_y,color=colors[wi])\n",
    "\n",
    "#微地震部分\n",
    "#画图参考 https://matplotlib.org/stable/gallery/lines_bars_and_markers/scatter_with_legend.html\n",
    "\n",
    "\n",
    "plt.show()"
   ]
  },
  {
   "cell_type": "code",
   "execution_count": null,
   "metadata": {},
   "outputs": [],
   "source": []
  },
  {
   "cell_type": "code",
   "execution_count": 6,
   "metadata": {},
   "outputs": [],
   "source": [
    "# 3D PyVista （可选）\n",
    "import pyvista as pv\n",
    "pv.set_plot_theme(\"document\")"
   ]
  },
  {
   "cell_type": "code",
   "execution_count": 8,
   "metadata": {},
   "outputs": [],
   "source": [
    "#转化井眼轨迹点到pyvista的线\n",
    "def polyline_from_points(points):\n",
    "    poly = pv.PolyData()\n",
    "    poly.points = points\n",
    "    the_cell = np.arange(0, len(points), dtype=np.int_)\n",
    "    the_cell = np.insert(the_cell, 0, len(points))\n",
    "    poly.lines = the_cell\n",
    "    return poly"
   ]
  },
  {
   "cell_type": "code",
   "execution_count": 9,
   "metadata": {},
   "outputs": [
    {
     "data": {
      "application/javascript": "\n(function(root) {\n  function now() {\n    return new Date();\n  }\n\n  var force = true;\n\n  if (typeof root._bokeh_onload_callbacks === \"undefined\" || force === true) {\n    root._bokeh_onload_callbacks = [];\n    root._bokeh_is_loading = undefined;\n  }\n\n  if (typeof (root._bokeh_timeout) === \"undefined\" || force === true) {\n    root._bokeh_timeout = Date.now() + 5000;\n    root._bokeh_failed_load = false;\n  }\n\n  function run_callbacks() {\n    try {\n      root._bokeh_onload_callbacks.forEach(function(callback) {\n        if (callback != null)\n          callback();\n      });\n    } finally {\n      delete root._bokeh_onload_callbacks\n    }\n    console.debug(\"Bokeh: all callbacks have finished\");\n  }\n\n  function load_libs(css_urls, js_urls, js_modules, callback) {\n    if (css_urls == null) css_urls = [];\n    if (js_urls == null) js_urls = [];\n    if (js_modules == null) js_modules = [];\n\n    root._bokeh_onload_callbacks.push(callback);\n    if (root._bokeh_is_loading > 0) {\n      console.debug(\"Bokeh: BokehJS is being loaded, scheduling callback at\", now());\n      return null;\n    }\n    if (js_urls.length === 0 && js_modules.length === 0) {\n      run_callbacks();\n      return null;\n    }\n    console.debug(\"Bokeh: BokehJS not loaded, scheduling load and callback at\", now());\n\n    function on_load() {\n      root._bokeh_is_loading--;\n      if (root._bokeh_is_loading === 0) {\n        console.debug(\"Bokeh: all BokehJS libraries/stylesheets loaded\");\n        run_callbacks()\n      }\n    }\n\n    function on_error() {\n      console.error(\"failed to load \" + url);\n    }\n\n    for (var i = 0; i < css_urls.length; i++) {\n      var url = css_urls[i];\n      const element = document.createElement(\"link\");\n      element.onload = on_load;\n      element.onerror = on_error;\n      element.rel = \"stylesheet\";\n      element.type = \"text/css\";\n      element.href = url;\n      console.debug(\"Bokeh: injecting link tag for BokehJS stylesheet: \", url);\n      document.body.appendChild(element);\n    }\n\n    var skip = [];\n    if (window.requirejs) {\n      window.requirejs.config({'packages': {}, 'paths': {'vtk': 'https://unpkg.com/vtk.js@14.16.4/dist/vtk'}, 'shim': {'vtk': {'exports': 'vtk'}}});\n      \n      require([\"vtk\"], function() {\n\t\n\ton_load()\n      })\n      \n      root._bokeh_is_loading = css_urls.length + 1;\n    } else {\n      root._bokeh_is_loading = css_urls.length + js_urls.length + js_modules.length;\n    }\n    if (((window['vtk'] !== undefined) && (!(window['vtk'] instanceof HTMLElement))) || window.requirejs) {\n      var urls = ['https://unpkg.com/vtk.js@14.16.4/dist/vtk.js'];\n      for (var i = 0; i < urls.length; i++) {\n        skip.push(urls[i])\n      }\n    }\n    for (var i = 0; i < js_urls.length; i++) {\n      var url = js_urls[i];\n      if (skip.indexOf(url) >= 0) {\n\tif (!window.requirejs) {\n\t  on_load();\n\t}\n\tcontinue;\n      }\n      var element = document.createElement('script');\n      element.onload = on_load;\n      element.onerror = on_error;\n      element.async = false;\n      element.src = url;\n      console.debug(\"Bokeh: injecting script tag for BokehJS library: \", url);\n      document.head.appendChild(element);\n    }\n    for (var i = 0; i < js_modules.length; i++) {\n      var url = js_modules[i];\n      if (skip.indexOf(url) >= 0) {\n\tif (!window.requirejs) {\n\t  on_load();\n\t}\n\tcontinue;\n      }\n      var element = document.createElement('script');\n      element.onload = on_load;\n      element.onerror = on_error;\n      element.async = false;\n      element.src = url;\n      element.type = \"module\";\n      console.debug(\"Bokeh: injecting script tag for BokehJS library: \", url);\n      document.head.appendChild(element);\n    }\n    if (!js_urls.length && !js_modules.length) {\n      on_load()\n    }\n  };\n\n  function inject_raw_css(css) {\n    const element = document.createElement(\"style\");\n    element.appendChild(document.createTextNode(css));\n    document.body.appendChild(element);\n  }\n\n  var js_urls = [\"https://unpkg.com/vtk.js@14.16.4/dist/vtk.js\", \"https://cdn.bokeh.org/bokeh/release/bokeh-2.4.2.min.js\", \"https://cdn.bokeh.org/bokeh/release/bokeh-gl-2.4.2.min.js\", \"https://cdn.bokeh.org/bokeh/release/bokeh-widgets-2.4.2.min.js\", \"https://cdn.bokeh.org/bokeh/release/bokeh-tables-2.4.2.min.js\", \"https://cdn.bokeh.org/bokeh/release/bokeh-mathjax-2.4.2.min.js\", \"https://unpkg.com/@holoviz/panel@0.12.6/dist/panel.min.js\"];\n  var js_modules = [];\n  var css_urls = [\"https://unpkg.com/@holoviz/panel@0.12.6/dist/css/alerts.css\", \"https://unpkg.com/@holoviz/panel@0.12.6/dist/css/card.css\", \"https://unpkg.com/@holoviz/panel@0.12.6/dist/css/dataframe.css\", \"https://unpkg.com/@holoviz/panel@0.12.6/dist/css/json.css\", \"https://unpkg.com/@holoviz/panel@0.12.6/dist/css/loading.css\", \"https://unpkg.com/@holoviz/panel@0.12.6/dist/css/markdown.css\", \"https://unpkg.com/@holoviz/panel@0.12.6/dist/css/widgets.css\"];\n  var inline_js = [\n    function(Bokeh) {\n      inject_raw_css(\"\\n    .bk.pn-loading.arcs:before {\\n      background-image: url(\\\"data:image/svg+xml;base64,PHN2ZyB4bWxucz0iaHR0cDovL3d3dy53My5vcmcvMjAwMC9zdmciIHhtbG5zOnhsaW5rPSJodHRwOi8vd3d3LnczLm9yZy8xOTk5L3hsaW5rIiBzdHlsZT0ibWFyZ2luOiBhdXRvOyBiYWNrZ3JvdW5kOiBub25lOyBkaXNwbGF5OiBibG9jazsgc2hhcGUtcmVuZGVyaW5nOiBhdXRvOyIgdmlld0JveD0iMCAwIDEwMCAxMDAiIHByZXNlcnZlQXNwZWN0UmF0aW89InhNaWRZTWlkIj4gIDxjaXJjbGUgY3g9IjUwIiBjeT0iNTAiIHI9IjMyIiBzdHJva2Utd2lkdGg9IjgiIHN0cm9rZT0iI2MzYzNjMyIgc3Ryb2tlLWRhc2hhcnJheT0iNTAuMjY1NDgyNDU3NDM2NjkgNTAuMjY1NDgyNDU3NDM2NjkiIGZpbGw9Im5vbmUiIHN0cm9rZS1saW5lY2FwPSJyb3VuZCI+ICAgIDxhbmltYXRlVHJhbnNmb3JtIGF0dHJpYnV0ZU5hbWU9InRyYW5zZm9ybSIgdHlwZT0icm90YXRlIiByZXBlYXRDb3VudD0iaW5kZWZpbml0ZSIgZHVyPSIxcyIga2V5VGltZXM9IjA7MSIgdmFsdWVzPSIwIDUwIDUwOzM2MCA1MCA1MCI+PC9hbmltYXRlVHJhbnNmb3JtPiAgPC9jaXJjbGU+PC9zdmc+\\\");\\n      max-height: 400px;\\n    }\\n    \");\n    },\n    function(Bokeh) {\n      Bokeh.set_log_level(\"info\");\n    },\n    function(Bokeh) {} // ensure no trailing comma for IE\n  ];\n\n  function run_inline_js() {\n    if ((root.Bokeh !== undefined) || (force === true)) {\n      for (var i = 0; i < inline_js.length; i++) {\n        inline_js[i].call(root, root.Bokeh);\n      }} else if (Date.now() < root._bokeh_timeout) {\n      setTimeout(run_inline_js, 100);\n    } else if (!root._bokeh_failed_load) {\n      console.log(\"Bokeh: BokehJS failed to load within specified timeout.\");\n      root._bokeh_failed_load = true;\n    }\n  }\n\n  if (root._bokeh_is_loading === 0) {\n    console.debug(\"Bokeh: BokehJS loaded, going straight to plotting\");\n    run_inline_js();\n  } else {\n    load_libs(css_urls, js_urls, js_modules, function() {\n      console.debug(\"Bokeh: BokehJS plotting callback run at\", now());\n      run_inline_js();\n    });\n  }\n}(window));",
      "application/vnd.holoviews_load.v0+json": ""
     },
     "metadata": {},
     "output_type": "display_data"
    },
    {
     "data": {
      "application/javascript": "\nif ((window.PyViz === undefined) || (window.PyViz instanceof HTMLElement)) {\n  window.PyViz = {comms: {}, comm_status:{}, kernels:{}, receivers: {}, plot_index: []}\n}\n\n\n    function JupyterCommManager() {\n    }\n\n    JupyterCommManager.prototype.register_target = function(plot_id, comm_id, msg_handler) {\n      if (window.comm_manager || ((window.Jupyter !== undefined) && (Jupyter.notebook.kernel != null))) {\n        var comm_manager = window.comm_manager || Jupyter.notebook.kernel.comm_manager;\n        comm_manager.register_target(comm_id, function(comm) {\n          comm.on_msg(msg_handler);\n        });\n      } else if ((plot_id in window.PyViz.kernels) && (window.PyViz.kernels[plot_id])) {\n        window.PyViz.kernels[plot_id].registerCommTarget(comm_id, function(comm) {\n          comm.onMsg = msg_handler;\n        });\n      } else if (typeof google != 'undefined' && google.colab.kernel != null) {\n        google.colab.kernel.comms.registerTarget(comm_id, (comm) => {\n          var messages = comm.messages[Symbol.asyncIterator]();\n          function processIteratorResult(result) {\n            var message = result.value;\n            console.log(message)\n            var content = {data: message.data, comm_id};\n            var buffers = []\n            for (var buffer of message.buffers || []) {\n              buffers.push(new DataView(buffer))\n            }\n            var metadata = message.metadata || {};\n            var msg = {content, buffers, metadata}\n            msg_handler(msg);\n            return messages.next().then(processIteratorResult);\n          }\n          return messages.next().then(processIteratorResult);\n        })\n      }\n    }\n\n    JupyterCommManager.prototype.get_client_comm = function(plot_id, comm_id, msg_handler) {\n      if (comm_id in window.PyViz.comms) {\n        return window.PyViz.comms[comm_id];\n      } else if (window.comm_manager || ((window.Jupyter !== undefined) && (Jupyter.notebook.kernel != null))) {\n        var comm_manager = window.comm_manager || Jupyter.notebook.kernel.comm_manager;\n        var comm = comm_manager.new_comm(comm_id, {}, {}, {}, comm_id);\n        if (msg_handler) {\n          comm.on_msg(msg_handler);\n        }\n      } else if ((plot_id in window.PyViz.kernels) && (window.PyViz.kernels[plot_id])) {\n        var comm = window.PyViz.kernels[plot_id].connectToComm(comm_id);\n        comm.open();\n        if (msg_handler) {\n          comm.onMsg = msg_handler;\n        }\n      } else if (typeof google != 'undefined' && google.colab.kernel != null) {\n        var comm_promise = google.colab.kernel.comms.open(comm_id)\n        comm_promise.then((comm) => {\n          window.PyViz.comms[comm_id] = comm;\n          if (msg_handler) {\n            var messages = comm.messages[Symbol.asyncIterator]();\n            function processIteratorResult(result) {\n              var message = result.value;\n              var content = {data: message.data};\n              var metadata = message.metadata || {comm_id};\n              var msg = {content, metadata}\n              msg_handler(msg);\n              return messages.next().then(processIteratorResult);\n            }\n            return messages.next().then(processIteratorResult);\n          }\n        }) \n        var sendClosure = (data, metadata, buffers, disposeOnDone) => {\n          return comm_promise.then((comm) => {\n            comm.send(data, metadata, buffers, disposeOnDone);\n          });\n        };\n        var comm = {\n          send: sendClosure\n        };\n      }\n      window.PyViz.comms[comm_id] = comm;\n      return comm;\n    }\n    window.PyViz.comm_manager = new JupyterCommManager();\n    \n\n\nvar JS_MIME_TYPE = 'application/javascript';\nvar HTML_MIME_TYPE = 'text/html';\nvar EXEC_MIME_TYPE = 'application/vnd.holoviews_exec.v0+json';\nvar CLASS_NAME = 'output';\n\n/**\n * Render data to the DOM node\n */\nfunction render(props, node) {\n  var div = document.createElement(\"div\");\n  var script = document.createElement(\"script\");\n  node.appendChild(div);\n  node.appendChild(script);\n}\n\n/**\n * Handle when a new output is added\n */\nfunction handle_add_output(event, handle) {\n  var output_area = handle.output_area;\n  var output = handle.output;\n  if ((output.data == undefined) || (!output.data.hasOwnProperty(EXEC_MIME_TYPE))) {\n    return\n  }\n  var id = output.metadata[EXEC_MIME_TYPE][\"id\"];\n  var toinsert = output_area.element.find(\".\" + CLASS_NAME.split(' ')[0]);\n  if (id !== undefined) {\n    var nchildren = toinsert.length;\n    var html_node = toinsert[nchildren-1].children[0];\n    html_node.innerHTML = output.data[HTML_MIME_TYPE];\n    var scripts = [];\n    var nodelist = html_node.querySelectorAll(\"script\");\n    for (var i in nodelist) {\n      if (nodelist.hasOwnProperty(i)) {\n        scripts.push(nodelist[i])\n      }\n    }\n\n    scripts.forEach( function (oldScript) {\n      var newScript = document.createElement(\"script\");\n      var attrs = [];\n      var nodemap = oldScript.attributes;\n      for (var j in nodemap) {\n        if (nodemap.hasOwnProperty(j)) {\n          attrs.push(nodemap[j])\n        }\n      }\n      attrs.forEach(function(attr) { newScript.setAttribute(attr.name, attr.value) });\n      newScript.appendChild(document.createTextNode(oldScript.innerHTML));\n      oldScript.parentNode.replaceChild(newScript, oldScript);\n    });\n    if (JS_MIME_TYPE in output.data) {\n      toinsert[nchildren-1].children[1].textContent = output.data[JS_MIME_TYPE];\n    }\n    output_area._hv_plot_id = id;\n    if ((window.Bokeh !== undefined) && (id in Bokeh.index)) {\n      window.PyViz.plot_index[id] = Bokeh.index[id];\n    } else {\n      window.PyViz.plot_index[id] = null;\n    }\n  } else if (output.metadata[EXEC_MIME_TYPE][\"server_id\"] !== undefined) {\n    var bk_div = document.createElement(\"div\");\n    bk_div.innerHTML = output.data[HTML_MIME_TYPE];\n    var script_attrs = bk_div.children[0].attributes;\n    for (var i = 0; i < script_attrs.length; i++) {\n      toinsert[toinsert.length - 1].childNodes[1].setAttribute(script_attrs[i].name, script_attrs[i].value);\n    }\n    // store reference to server id on output_area\n    output_area._bokeh_server_id = output.metadata[EXEC_MIME_TYPE][\"server_id\"];\n  }\n}\n\n/**\n * Handle when an output is cleared or removed\n */\nfunction handle_clear_output(event, handle) {\n  var id = handle.cell.output_area._hv_plot_id;\n  var server_id = handle.cell.output_area._bokeh_server_id;\n  if (((id === undefined) || !(id in PyViz.plot_index)) && (server_id !== undefined)) { return; }\n  var comm = window.PyViz.comm_manager.get_client_comm(\"hv-extension-comm\", \"hv-extension-comm\", function () {});\n  if (server_id !== null) {\n    comm.send({event_type: 'server_delete', 'id': server_id});\n    return;\n  } else if (comm !== null) {\n    comm.send({event_type: 'delete', 'id': id});\n  }\n  delete PyViz.plot_index[id];\n  if ((window.Bokeh !== undefined) & (id in window.Bokeh.index)) {\n    var doc = window.Bokeh.index[id].model.document\n    doc.clear();\n    const i = window.Bokeh.documents.indexOf(doc);\n    if (i > -1) {\n      window.Bokeh.documents.splice(i, 1);\n    }\n  }\n}\n\n/**\n * Handle kernel restart event\n */\nfunction handle_kernel_cleanup(event, handle) {\n  delete PyViz.comms[\"hv-extension-comm\"];\n  window.PyViz.plot_index = {}\n}\n\n/**\n * Handle update_display_data messages\n */\nfunction handle_update_output(event, handle) {\n  handle_clear_output(event, {cell: {output_area: handle.output_area}})\n  handle_add_output(event, handle)\n}\n\nfunction register_renderer(events, OutputArea) {\n  function append_mime(data, metadata, element) {\n    // create a DOM node to render to\n    var toinsert = this.create_output_subarea(\n    metadata,\n    CLASS_NAME,\n    EXEC_MIME_TYPE\n    );\n    this.keyboard_manager.register_events(toinsert);\n    // Render to node\n    var props = {data: data, metadata: metadata[EXEC_MIME_TYPE]};\n    render(props, toinsert[0]);\n    element.append(toinsert);\n    return toinsert\n  }\n\n  events.on('output_added.OutputArea', handle_add_output);\n  events.on('output_updated.OutputArea', handle_update_output);\n  events.on('clear_output.CodeCell', handle_clear_output);\n  events.on('delete.Cell', handle_clear_output);\n  events.on('kernel_ready.Kernel', handle_kernel_cleanup);\n\n  OutputArea.prototype.register_mime_type(EXEC_MIME_TYPE, append_mime, {\n    safe: true,\n    index: 0\n  });\n}\n\nif (window.Jupyter !== undefined) {\n  try {\n    var events = require('base/js/events');\n    var OutputArea = require('notebook/js/outputarea').OutputArea;\n    if (OutputArea.prototype.mime_types().indexOf(EXEC_MIME_TYPE) == -1) {\n      register_renderer(events, OutputArea);\n    }\n  } catch(err) {\n  }\n}\n",
      "application/vnd.holoviews_load.v0+json": ""
     },
     "metadata": {},
     "output_type": "display_data"
    },
    {
     "data": {
      "application/vnd.jupyter.widget-view+json": {
       "model_id": "eb438f74741046d482a152a7c8e36f34",
       "version_major": 2,
       "version_minor": 0
      },
      "text/plain": [
       "BokehModel(combine_events=True, render_bundle={'docs_json': {'bdf3ab8b-4b98-4491-aa2a-d4580cb61fff': {'defs': …"
      ]
     },
     "metadata": {},
     "output_type": "display_data"
    },
    {
     "data": {
      "text/html": [
       "<div style=\"display: none\"></div>"
      ]
     },
     "metadata": {},
     "output_type": "display_data"
    }
   ],
   "source": [
    "#从matplotlib 中提取一些颜色\n",
    "n = 16\n",
    "colors = plt.cm.Paired(np.linspace(0,1,n))\n",
    "\n",
    "#Plot 画井眼轨迹部分\n",
    "p = pv.Plotter()\n",
    "well_tubes = {}\n",
    "for wi in range(len(well_points)):\n",
    "    #print(f'Well {wi+1}')\n",
    "    \n",
    "    #点变成线\n",
    "    polyline = polyline_from_points(well_points[wi])\n",
    "    \n",
    "    #线变成管\n",
    "    tube = polyline.tube(radius=25)\n",
    "    well_tubes[well_names[wi]] = tube\n",
    "\n",
    "    p.add_mesh(tube,color=colors[wi])\n",
    "\n",
    "\n",
    "#Plot 微地震部分\n",
    "#参考：https://docs.pyvista.org/examples/00-load/wrap-trimesh.html#sphx-glr-examples-00-load-wrap-trimesh-py\n",
    "#。。。\n",
    "microsemesics = {}\n",
    "\n",
    "\n",
    "p.show(jupyter_backend='panel')"
   ]
  },
  {
   "cell_type": "code",
   "execution_count": 10,
   "metadata": {},
   "outputs": [],
   "source": [
    "#导出到Paraview\n",
    "blocks = pv.MultiBlock(well_tubes)\n",
    "blocks.save('Wellbore.vtm')\n",
    "\n",
    "blocks = pv.MultiBlock(well_tubes)\n",
    "blocks.save('Wellbore.vtm')"
   ]
  },
  {
   "cell_type": "code",
   "execution_count": null,
   "metadata": {},
   "outputs": [],
   "source": []
  }
 ],
 "metadata": {
  "interpreter": {
   "hash": "34dfee18d5f4a96df9a8fcc719c91cf50e8ed50de2aa108bf45cd20982063274"
  },
  "kernelspec": {
   "display_name": "Python 3.8.8 64-bit ('base': conda)",
   "language": "python",
   "name": "python3"
  },
  "language_info": {
   "codemirror_mode": {
    "name": "ipython",
    "version": 3
   },
   "file_extension": ".py",
   "mimetype": "text/x-python",
   "name": "python",
   "nbconvert_exporter": "python",
   "pygments_lexer": "ipython3",
   "version": "3.8.8"
  },
  "orig_nbformat": 4
 },
 "nbformat": 4,
 "nbformat_minor": 2
}
